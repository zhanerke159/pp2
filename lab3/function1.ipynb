{
 "cells": [
  {
   "cell_type": "code",
   "execution_count": 3,
   "metadata": {},
   "outputs": [
    {
     "name": "stdout",
     "output_type": "stream",
     "text": [
      "85.0485693\n"
     ]
    }
   ],
   "source": [
    "#1 task\n",
    "def ounces(gram):\n",
    "    ounces=gram * 28.3495231\n",
    "    return ounces\n",
    "a=3\n",
    "s=ounces(a)\n",
    "print(s)"
   ]
  },
  {
   "cell_type": "code",
   "execution_count": 4,
   "metadata": {},
   "outputs": [
    {
     "name": "stdout",
     "output_type": "stream",
     "text": [
      "-12.222222222222223\n"
     ]
    }
   ],
   "source": [
    "#2 task\n",
    "def Fahrenheit(f):\n",
    "    c= (5 / 9) * ( f-32)\n",
    "    return c\n",
    "s=10\n",
    "d=Fahrenheit(s)\n",
    "print(d)"
   ]
  },
  {
   "cell_type": "code",
   "execution_count": 6,
   "metadata": {},
   "outputs": [
    {
     "name": "stdout",
     "output_type": "stream",
     "text": [
      "(23, 12)\n"
     ]
    }
   ],
   "source": [
    "#3 task\n",
    "def solve(numheads, numlegs):\n",
    "    for i in range(numheads+1):\n",
    "        r =numheads-i\n",
    "        if 2 * i+ 4 * r == numlegs:\n",
    "            return i, r\n",
    "    return \"there is no response\"\n",
    "a=35\n",
    "b=94\n",
    "c=solve(a,b)\n",
    "print(c)"
   ]
  },
  {
   "cell_type": "code",
   "execution_count": null,
   "metadata": {},
   "outputs": [],
   "source": [
    "#4 task\n",
    "import math\n",
    "\n",
    "def filter_prime(a):\n",
    "    if a < 2:\n",
    "        return False\n",
    "    for i in range(2, int(a**0.5) + 1):\n",
    "        if a % i == 0:\n",
    "            return False\n",
    "    return True\n",
    "\n",
    "\n",
    "a = [1,2,3,4,5]\n",
    "c = []\n",
    "for i in a:\n",
    "    if filter_prime(i):  \n",
    "        c.append(i)\n",
    "print(c)  \n",
    "\n"
   ]
  },
  {
   "cell_type": "code",
   "execution_count": 8,
   "metadata": {},
   "outputs": [
    {
     "name": "stdout",
     "output_type": "stream",
     "text": [
      "abd\n",
      "adb\n",
      "bad\n",
      "bda\n",
      "dab\n",
      "dba\n"
     ]
    }
   ],
   "source": [
    "#5 task\n",
    "from itertools import permutations\n",
    "\n",
    "def print_permutations(s):\n",
    "    perm = permutations(s)  \n",
    "    for p in perm:\n",
    "        print(''.join(p)) \n",
    "a='abd'\n",
    "print_permutations(a)"
   ]
  },
  {
   "cell_type": "code",
   "execution_count": 9,
   "metadata": {},
   "outputs": [
    {
     "name": "stdout",
     "output_type": "stream",
     "text": [
      "ready are We\n"
     ]
    }
   ],
   "source": [
    "#6 task\n",
    "def reversedd(a):\n",
    "    words = a.split()\n",
    "    c=words[::-1]\n",
    "    return ' '.join(c)\n",
    "s='We are ready'\n",
    "f=reversedd(s)\n",
    "print(f)\n"
   ]
  },
  {
   "cell_type": "code",
   "execution_count": 10,
   "metadata": {},
   "outputs": [
    {
     "name": "stdout",
     "output_type": "stream",
     "text": [
      "True\n"
     ]
    }
   ],
   "source": [
    "#7 task\n",
    "def lists(a):\n",
    "    for i in range(0,len(a)-1):\n",
    "        if(a[i]==3 and a[i+1]==3):\n",
    "            return True\n",
    "    return False\n",
    "s=[1,3,3]\n",
    "d=lists(s)\n",
    "print(d)\n",
    "        "
   ]
  },
  {
   "cell_type": "code",
   "execution_count": 18,
   "metadata": {},
   "outputs": [
    {
     "name": "stdout",
     "output_type": "stream",
     "text": [
      "False\n"
     ]
    }
   ],
   "source": [
    "#8 task\n",
    "def spy_game(a):\n",
    "    c=\"\"\n",
    "    for i in range(len(a)):\n",
    "        if a[i] == 0 or a[i] == 7:\n",
    "            c+=str(a[i])\n",
    "    if c=='007':\n",
    "        return True\n",
    "    return False\n",
    "s=[1,7,2,0,4,5,0] \n",
    "print(spy_game(s)) \n",
    "            \n",
    "            \n",
    "\n"
   ]
  },
  {
   "cell_type": "code",
   "execution_count": 19,
   "metadata": {},
   "outputs": [
    {
     "name": "stdout",
     "output_type": "stream",
     "text": [
      "268.082573106329\n"
     ]
    }
   ],
   "source": [
    "#9task\n",
    "import math\n",
    "def sphere(r):\n",
    "    v=4/3 *(r**3)*math.pi\n",
    "    return v\n",
    "R=4\n",
    "print(sphere(R))"
   ]
  },
  {
   "cell_type": "code",
   "execution_count": null,
   "metadata": {},
   "outputs": [],
   "source": [
    "#10 task\n",
    "def unic(a):\n",
    "    c = []\n",
    "    for b in a:\n",
    "        if b not in c:  \n",
    "            c.append(b)\n",
    "    return c\n",
    "\n",
    "s = [2,13,14,13,15]\n",
    "print(unic(s))  "
   ]
  },
  {
   "cell_type": "code",
   "execution_count": 1,
   "metadata": {},
   "outputs": [
    {
     "name": "stdout",
     "output_type": "stream",
     "text": [
      "palindrome\n"
     ]
    }
   ],
   "source": [
    "#11 task\n",
    "def palindrome(a):\n",
    "    c=a[::-1]\n",
    "    if a==c:\n",
    "        return \"palindrome\"\n",
    "    return \"not palindrome\"\n",
    "t=\"qazaq\"\n",
    "print(palindrome(t))"
   ]
  },
  {
   "cell_type": "code",
   "execution_count": 24,
   "metadata": {},
   "outputs": [
    {
     "name": "stdout",
     "output_type": "stream",
     "text": [
      "****\n",
      "*********\n",
      "*******\n"
     ]
    }
   ],
   "source": [
    "#12 task\n",
    "def histogram(num):\n",
    "    for i in num:\n",
    "        print('*' * i)\n",
    "histogram([4, 9, 7])\n"
   ]
  },
  {
   "cell_type": "code",
   "execution_count": null,
   "metadata": {},
   "outputs": [],
   "source": [
    "#13 task\n",
    "import random\n",
    "def guess():\n",
    "    print(\"Hello! What is your name?\")\n",
    "    name = input()\n",
    "    print(\"\\nWell,\", name,\",\", \" I am thinking of a number between 1 and 20.\")\n",
    "    n = random.randint(1, 20)\n",
    "    c = 0\n",
    "\n",
    "    while True:\n",
    "        print(\"\\nTake a guess.\")\n",
    "        g = int(input())\n",
    "        c += 1\n",
    "        if g < n:\n",
    "            print(\"Your guess is too low.\")\n",
    "        elif g > n:\n",
    "            print(\"Your guess is too high.\")\n",
    "        else:\n",
    "            print(\"Good job,\", name,\"!\", \" You guessed my number in \",c , \" guesses!\")\n",
    "            break\n",
    "guess()\n"
   ]
  }
 ],
 "metadata": {
  "kernelspec": {
   "display_name": "Python 3",
   "language": "python",
   "name": "python3"
  },
  "language_info": {
   "codemirror_mode": {
    "name": "ipython",
    "version": 3
   },
   "file_extension": ".py",
   "mimetype": "text/x-python",
   "name": "python",
   "nbconvert_exporter": "python",
   "pygments_lexer": "ipython3",
   "version": "3.13.0"
  }
 },
 "nbformat": 4,
 "nbformat_minor": 2
}
