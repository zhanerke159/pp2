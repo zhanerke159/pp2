{
 "cells": [
  {
   "cell_type": "code",
   "execution_count": 1,
   "metadata": {},
   "outputs": [
    {
     "name": "stdout",
     "output_type": "stream",
     "text": [
      "IVAB\n"
     ]
    }
   ],
   "source": [
    "#1 task\n",
    "class Text:\n",
    "    def __init__(self):\n",
    "        self.c=\"\"\n",
    "    def getString(self):\n",
    "        self.c=\"ivab\"\n",
    "    def printString(self):\n",
    "        print(self.c.upper())\n",
    "t=Text()\n",
    "t.getString()\n",
    "t.printString()"
   ]
  },
  {
   "cell_type": "code",
   "execution_count": 1,
   "metadata": {},
   "outputs": [
    {
     "name": "stdout",
     "output_type": "stream",
     "text": [
      "0\n",
      "25\n"
     ]
    }
   ],
   "source": [
    "#2task\n",
    "class shape():\n",
    "    def __init__(self):\n",
    "        pass\n",
    "    def area(self):\n",
    "        return 0\n",
    "class Square(shape):\n",
    "    def __init__(self, length):\n",
    "        self.length = length\n",
    "\n",
    "    def area(self):\n",
    "        return self.length ** 2\n",
    "t=shape()\n",
    "print(t.area())\n",
    "c=Square(5)\n",
    "print(c.area())"
   ]
  },
  {
   "cell_type": "code",
   "execution_count": 2,
   "metadata": {},
   "outputs": [
    {
     "name": "stdout",
     "output_type": "stream",
     "text": [
      "0\n",
      "15\n"
     ]
    }
   ],
   "source": [
    "#3 task\n",
    "class shape():\n",
    "    def __init__(self):\n",
    "        pass\n",
    "    def area(self):\n",
    "        return 0\n",
    "class rectangle(shape):\n",
    "    def __init__(self, length, width):\n",
    "        self.length =length\n",
    "        self.width =width\n",
    "\n",
    "    def area(self):\n",
    "        return self.length * self.width\n",
    "    \n",
    "t=shape()\n",
    "print(t.area())\n",
    "c=rectangle(3,5)\n",
    "print(c.area())\n"
   ]
  },
  {
   "cell_type": "code",
   "execution_count": null,
   "metadata": {},
   "outputs": [],
   "source": [
    "#4 task\n",
    "import math\n",
    "class point():\n",
    "    def __init__(self,x1,y1,x2,y2 ):\n",
    "        self.x1=x1\n",
    "        self.y1=y1\n",
    "        self.x2=x2\n",
    "        self.y2=y2\n",
    "\n",
    "    def show(self):\n",
    "        print(f\"Coordinats: [{self.x1}, {self.y1}], [{self.x2},{self.y2}]\")\n",
    "    def move(self,a,b,c,d):\n",
    "        self.x1=a\n",
    "        self.y1=b\n",
    "        self.x2=c\n",
    "        self.y2=d\n",
    "    def dist(self):\n",
    "        c=(self.x1-self.x2)**2 + (self.y1 - self.y2)**2\n",
    "        t=math.sqrt(c)\n",
    "        return t\n",
    "print(\"enter the coordinates: \")\n",
    "a,b,c,d=map(int, input(). split())\n",
    "t=point(a,b,c,d)\n",
    "t.show()\n",
    "print(\"Distance: \", t.dist())\n",
    "e,f,g,h=map(int, input(). split())\n",
    "t.move(e,f,g,h)\n",
    "t.show()\n",
    "print(\"Distance: \", t.dist())"
   ]
  },
  {
   "cell_type": "code",
   "execution_count": null,
   "metadata": {},
   "outputs": [],
   "source": [
    "#5 task\n",
    "class account():\n",
    "    def __init__(self, owner, balance):\n",
    "        self.owner=owner\n",
    "        self.balance=balance\n",
    "    def cur(self):\n",
    "        print(f\"Username: {self.owner}\")\n",
    "        print(f\"Current balance: {self.balance}\")\n",
    "    def deposit(self, mon):\n",
    "        self.balance += mon\n",
    "        print(f\"Deposited:{mon} tg.New balance: {self.balance}\")\n",
    "    def withdraw(self, mon):\n",
    "        if mon<=self.balance:\n",
    "            self.balance-=mon\n",
    "            print(f\"Withdrew:{mon} tg.New balance: {self.balance}\")\n",
    "        else:\n",
    "            print(\"Not enough money.\")\n",
    "\n",
    "a=input()\n",
    "b=int(input())           \n",
    "t=account(a,b)\n",
    "t.cur()\n",
    "print(\"Insert:\")\n",
    "s=int(input())\n",
    "t.deposit(s)\n",
    "print(\"Output:\")\n",
    "d=int(input())\n",
    "t.withdraw(d)\n"
   ]
  },
  {
   "cell_type": "code",
   "execution_count": null,
   "metadata": {},
   "outputs": [],
   "source": [
    "#6 task\n",
    "print(\"How many elements:\")\n",
    "b=int(input())\n",
    "c=[]\n",
    "for i in range(2,b+1):\n",
    "    a=int(input())\n",
    "    c.append(a)\n",
    "p = lambda n: n > 1 and all(n % i != 0 for i in range(2, int(n ** 0.5) + 1))\n",
    "primes = list(filter(p, c))\n",
    "print(primes)  \n"
   ]
  }
 ],
 "metadata": {
  "kernelspec": {
   "display_name": "Python 3",
   "language": "python",
   "name": "python3"
  },
  "language_info": {
   "codemirror_mode": {
    "name": "ipython",
    "version": 3
   },
   "file_extension": ".py",
   "mimetype": "text/x-python",
   "name": "python",
   "nbconvert_exporter": "python",
   "pygments_lexer": "ipython3",
   "version": "3.13.0"
  }
 },
 "nbformat": 4,
 "nbformat_minor": 2
}
